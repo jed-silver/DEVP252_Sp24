{
 "cells": [
  {
   "cell_type": "markdown",
   "id": "05ae1a0a-7917-434c-9495-c47955d8144e",
   "metadata": {},
   "source": [
    "# DEVP 252: Problem Set 1. Due January 31\n",
    "\n",
    "You may work in groups of up to 2 people, and then turn in just one copy of the problem set for the whole grou You may use STATA, R or Python to complete this assignment (but a walkthrough will only be provided for STATA and R). Please provide very short answers to each of the questions and turn in your Jupyter notebook as a PDF if you are using R or Python or include your .do or .log files if you are using Stata.\n",
    "\n",
    "For this problem set, you will look at poverty and welfare in South Africa. The data set we will use is a little old, but it is a very easy data set to learn on, so it's good to start with. Once you learn on these data, it will be easier to use many other data sets. \n",
    "\n",
    "Begin by going to the World Bank’s Living Standards Measurement Survey (LSMS) webpage (just google World Bank LSMS, or go to: https://microdata.worldbank.org/index.php/catalog/297/get-microdata) and download the data for South Africa (you will have to fill out a brief data use agreement form to start). \n",
    "\n",
    "When you download the data, you will notice that the dataset is in many separate files, each file referring to a different portion of the survey questionnaire (there are also a few files containing \"constructed\" variables, where the World Bank saved you some time and added some variables together for you). You can find a \"data map\" file on the website that tells you which sections of the questionnaire are in which data files. This is done simply to make the data set more manageable and easy to use. And the files are also \"compressed\" or \"zipped\" to save space, so you should double click on the folders and then click the button to \"extract\" the files so that they are no longer compressed. You should also download the survey questionnaires, since they will show you what questions were asked. \n"
   ]
  },
  {
   "cell_type": "markdown",
   "id": "6de6ab56-7540-427c-a397-c43b6c492841",
   "metadata": {},
   "source": [
    "## Question 1: Computing Poverty Rates\n",
    "\n",
    "Let's start out by measuring poverty. Let's use 150 Rand per person per month as our poverty line. (To keep it simple, ignore economies of scale and adult equivalents for now. Let's also ignore sampling weights)\n",
    "\n",
    "### A. What percent of households live below the poverty line?\n",
    "\n",
    "I will walk you through this one because some of you are new to R. And this may seem like a very long process, but it is just a few steps--I am making it long to help explain things to you. So you don't get lost, here is a road map to the major steps: \n",
    "1. Take the data file that gives you information on people in the household and create a variable that adds up how many people are in the household;\n",
    "2.  Merge this file with the file containing data on household income;\n",
    "3.  Create an income per capita variable;\n",
    "4.  Create a variable that tells me if income per capita is less than 150.\n",
    "\n",
    "Before diving in further though, let's get R up and running. We'll need to install some packages and make sure R is pointed to right location on our machines. "
   ]
  },
  {
   "cell_type": "code",
   "execution_count": 1,
   "id": "8a84cc22-98b8-4e3e-908b-dffb7c860199",
   "metadata": {},
   "outputs": [
    {
     "name": "stdout",
     "output_type": "stream",
     "text": [
      "package 'pacman' successfully unpacked and MD5 sums checked\n",
      "\n",
      "The downloaded binary packages are in\n",
      "\tC:\\Users\\jsilv\\AppData\\Local\\Temp\\RtmpQdAm4O\\downloaded_packages\n"
     ]
    },
    {
     "data": {
      "text/html": [
       "'C:/Users/jsilv'"
      ],
      "text/latex": [
       "'C:/Users/jsilv'"
      ],
      "text/markdown": [
       "'C:/Users/jsilv'"
      ],
      "text/plain": [
       "[1] \"C:/Users/jsilv\""
      ]
     },
     "metadata": {},
     "output_type": "display_data"
    }
   ],
   "source": [
    "## USE CTRL-ENTER to run me\n",
    "\n",
    "# Only need to run this once (unless you've already installed pacman before)\n",
    "install.packages('pacman')\n",
    "# Load packages we need (Pacman installs them if we don't already have them). dplyr helps us manipulate dataframes while haven allows us to read .dta files \n",
    "pacman::p_load(tidyverse, haven)\n",
    "\n",
    "# Print your working directory\n",
    "getwd()\n",
    "\n",
    "# Replace below with path to where you've put the data (unless it's in your current wd). Only run this once\n",
    "setwd('DEVP252/ZAF_1993_IHS_v01_M_STATA')\n"
   ]
  },
  {
   "cell_type": "markdown",
   "id": "5000e7dc-f4ae-4d5f-b90f-daba50f7cbf9",
   "metadata": {},
   "source": [
    "Let's use income to measure poverty, instead of expenditures. The file `HHINCTL.dta` contains data on total household income, and income from various sources. This is one of those \"constructed\" variables, where the World Bank took all of the separate questions on income from Sections 8.1 to 8.7 on the survey and added them all together to make one variable called totminc, for total monthly income (I could have asked you to do that yourself, but this will save you some time).\n",
    "\n",
    "But to compute poverty, you need income per person (we will ignore adult equivalents and economies of scale to make your life easier). So you need to divide this variable by the number of people in the household. How do you do that\n",
    "\n",
    "First, you need to know how many people are in each household. So we will need to use the household roster file (`M8_HROST.dta`), which contains data on each person in the household. This corresponds to Section 1 of the survey questionnaire; for each person in each household, there is a line of data, with information on the person's age, sex, relationship to household head, etc.? R is an object-oriented language (unlike STATA) which means that everything (whether it's a number, a dataframe, a list, a function, or anything else) can be assigned a name and held in memory. To assign an object a name we use this reverse arrow `<-` (which you can read as \"gets\"). If we don't assign a name in a line of code then it will print the output (as in the last line below).\n",
    "\n"
   ]
  },
  {
   "cell_type": "code",
   "execution_count": 2,
   "id": "50b7e7be-b896-4e44-aad1-8e3993c6a037",
   "metadata": {},
   "outputs": [
    {
     "name": "stdout",
     "output_type": "stream",
     "text": [
      "[1] \"8810 households\"\n"
     ]
    },
    {
     "data": {
      "text/html": [
       "<table>\n",
       "<thead><tr><th scope=col>hhid</th><th scope=col>pcode</th><th scope=col>mcode</th><th scope=col>pers_res</th><th scope=col>rel_head</th><th scope=col>gender_c</th><th scope=col>age</th><th scope=col>educ_c</th><th scope=col>spouse</th><th scope=col>father</th><th scope=col>mother</th><th scope=col>abs_mont</th><th scope=col>absence_</th><th scope=col>resident</th><th scope=col>migrate</th><th scope=col>last_pla</th><th scope=col>gender_n</th><th scope=col>clustnum</th></tr></thead>\n",
       "<tbody>\n",
       "\t<tr><td>1001</td><td>1   </td><td>1   </td><td>1   </td><td>1   </td><td>M   </td><td>62  </td><td>4   </td><td> 2  </td><td>88  </td><td>99  </td><td>0   </td><td>-2  </td><td>1   </td><td>2   </td><td>-2  </td><td>3   </td><td>1   </td></tr>\n",
       "\t<tr><td>1001</td><td>2   </td><td>1   </td><td>2   </td><td>3   </td><td>F   </td><td>45  </td><td>6   </td><td> 1  </td><td>88  </td><td>88  </td><td>0   </td><td>-2  </td><td>1   </td><td>2   </td><td>-2  </td><td>2   </td><td>1   </td></tr>\n",
       "\t<tr><td>1002</td><td>1   </td><td>1   </td><td>1   </td><td>1   </td><td>M   </td><td>67  </td><td>0   </td><td>99  </td><td>88  </td><td>88  </td><td>0   </td><td>-2  </td><td>1   </td><td>2   </td><td>-2  </td><td>3   </td><td>1   </td></tr>\n",
       "\t<tr><td>1003</td><td>1   </td><td>1   </td><td>2   </td><td>1   </td><td>M   </td><td>62  </td><td>5   </td><td>99  </td><td>88  </td><td>88  </td><td>0   </td><td>-2  </td><td>1   </td><td>2   </td><td>-2  </td><td>3   </td><td>1   </td></tr>\n",
       "\t<tr><td>1003</td><td>2   </td><td>1   </td><td>1   </td><td>4   </td><td>F   </td><td>24  </td><td>6   </td><td>-2  </td><td> 1  </td><td>99  </td><td>0   </td><td>-2  </td><td>1   </td><td>2   </td><td>-2  </td><td>2   </td><td>1   </td></tr>\n",
       "\t<tr><td>1004</td><td>1   </td><td>1   </td><td>1   </td><td>1   </td><td>M   </td><td>57  </td><td>5   </td><td>99  </td><td>88  </td><td>88  </td><td>2   </td><td>11  </td><td>1   </td><td>2   </td><td>-2  </td><td>3   </td><td>1   </td></tr>\n",
       "\t<tr><td>1005</td><td>1   </td><td>1   </td><td>2   </td><td>1   </td><td>M   </td><td>28  </td><td>6   </td><td> 2  </td><td>88  </td><td>99  </td><td>0   </td><td>-2  </td><td>1   </td><td>2   </td><td>-2  </td><td>3   </td><td>1   </td></tr>\n",
       "\t<tr><td>1005</td><td>2   </td><td>1   </td><td>1   </td><td>3   </td><td>F   </td><td>25  </td><td>9   </td><td> 1  </td><td>88  </td><td>99  </td><td>0   </td><td>-2  </td><td>1   </td><td>2   </td><td>-2  </td><td>2   </td><td>1   </td></tr>\n",
       "\t<tr><td>1005</td><td>3   </td><td>1   </td><td>2   </td><td>4   </td><td>M   </td><td> 4  </td><td>0   </td><td>-2  </td><td> 1  </td><td> 2  </td><td>0   </td><td>-2  </td><td>1   </td><td>2   </td><td>-2  </td><td>3   </td><td>1   </td></tr>\n",
       "\t<tr><td>1006</td><td>1   </td><td>1   </td><td>1   </td><td>1   </td><td>M   </td><td>51  </td><td>0   </td><td>99  </td><td>88  </td><td>99  </td><td>0   </td><td>-2  </td><td>1   </td><td>2   </td><td>-2  </td><td>3   </td><td>1   </td></tr>\n",
       "</tbody>\n",
       "</table>\n"
      ],
      "text/latex": [
       "\\begin{tabular}{r|llllllllllllllllll}\n",
       " hhid & pcode & mcode & pers\\_res & rel\\_head & gender\\_c & age & educ\\_c & spouse & father & mother & abs\\_mont & absence\\_ & resident & migrate & last\\_pla & gender\\_n & clustnum\\\\\n",
       "\\hline\n",
       "\t 1001 & 1    & 1    & 1    & 1    & M    & 62   & 4    &  2   & 88   & 99   & 0    & -2   & 1    & 2    & -2   & 3    & 1   \\\\\n",
       "\t 1001 & 2    & 1    & 2    & 3    & F    & 45   & 6    &  1   & 88   & 88   & 0    & -2   & 1    & 2    & -2   & 2    & 1   \\\\\n",
       "\t 1002 & 1    & 1    & 1    & 1    & M    & 67   & 0    & 99   & 88   & 88   & 0    & -2   & 1    & 2    & -2   & 3    & 1   \\\\\n",
       "\t 1003 & 1    & 1    & 2    & 1    & M    & 62   & 5    & 99   & 88   & 88   & 0    & -2   & 1    & 2    & -2   & 3    & 1   \\\\\n",
       "\t 1003 & 2    & 1    & 1    & 4    & F    & 24   & 6    & -2   &  1   & 99   & 0    & -2   & 1    & 2    & -2   & 2    & 1   \\\\\n",
       "\t 1004 & 1    & 1    & 1    & 1    & M    & 57   & 5    & 99   & 88   & 88   & 2    & 11   & 1    & 2    & -2   & 3    & 1   \\\\\n",
       "\t 1005 & 1    & 1    & 2    & 1    & M    & 28   & 6    &  2   & 88   & 99   & 0    & -2   & 1    & 2    & -2   & 3    & 1   \\\\\n",
       "\t 1005 & 2    & 1    & 1    & 3    & F    & 25   & 9    &  1   & 88   & 99   & 0    & -2   & 1    & 2    & -2   & 2    & 1   \\\\\n",
       "\t 1005 & 3    & 1    & 2    & 4    & M    &  4   & 0    & -2   &  1   &  2   & 0    & -2   & 1    & 2    & -2   & 3    & 1   \\\\\n",
       "\t 1006 & 1    & 1    & 1    & 1    & M    & 51   & 0    & 99   & 88   & 99   & 0    & -2   & 1    & 2    & -2   & 3    & 1   \\\\\n",
       "\\end{tabular}\n"
      ],
      "text/markdown": [
       "\n",
       "| hhid | pcode | mcode | pers_res | rel_head | gender_c | age | educ_c | spouse | father | mother | abs_mont | absence_ | resident | migrate | last_pla | gender_n | clustnum |\n",
       "|---|---|---|---|---|---|---|---|---|---|---|---|---|---|---|---|---|---|\n",
       "| 1001 | 1    | 1    | 1    | 1    | M    | 62   | 4    |  2   | 88   | 99   | 0    | -2   | 1    | 2    | -2   | 3    | 1    |\n",
       "| 1001 | 2    | 1    | 2    | 3    | F    | 45   | 6    |  1   | 88   | 88   | 0    | -2   | 1    | 2    | -2   | 2    | 1    |\n",
       "| 1002 | 1    | 1    | 1    | 1    | M    | 67   | 0    | 99   | 88   | 88   | 0    | -2   | 1    | 2    | -2   | 3    | 1    |\n",
       "| 1003 | 1    | 1    | 2    | 1    | M    | 62   | 5    | 99   | 88   | 88   | 0    | -2   | 1    | 2    | -2   | 3    | 1    |\n",
       "| 1003 | 2    | 1    | 1    | 4    | F    | 24   | 6    | -2   |  1   | 99   | 0    | -2   | 1    | 2    | -2   | 2    | 1    |\n",
       "| 1004 | 1    | 1    | 1    | 1    | M    | 57   | 5    | 99   | 88   | 88   | 2    | 11   | 1    | 2    | -2   | 3    | 1    |\n",
       "| 1005 | 1    | 1    | 2    | 1    | M    | 28   | 6    |  2   | 88   | 99   | 0    | -2   | 1    | 2    | -2   | 3    | 1    |\n",
       "| 1005 | 2    | 1    | 1    | 3    | F    | 25   | 9    |  1   | 88   | 99   | 0    | -2   | 1    | 2    | -2   | 2    | 1    |\n",
       "| 1005 | 3    | 1    | 2    | 4    | M    |  4   | 0    | -2   |  1   |  2   | 0    | -2   | 1    | 2    | -2   | 3    | 1    |\n",
       "| 1006 | 1    | 1    | 1    | 1    | M    | 51   | 0    | 99   | 88   | 99   | 0    | -2   | 1    | 2    | -2   | 3    | 1    |\n",
       "\n"
      ],
      "text/plain": [
       "   hhid pcode mcode pers_res rel_head gender_c age educ_c spouse father mother\n",
       "1  1001 1     1     1        1        M        62  4       2     88     99    \n",
       "2  1001 2     1     2        3        F        45  6       1     88     88    \n",
       "3  1002 1     1     1        1        M        67  0      99     88     88    \n",
       "4  1003 1     1     2        1        M        62  5      99     88     88    \n",
       "5  1003 2     1     1        4        F        24  6      -2      1     99    \n",
       "6  1004 1     1     1        1        M        57  5      99     88     88    \n",
       "7  1005 1     1     2        1        M        28  6       2     88     99    \n",
       "8  1005 2     1     1        3        F        25  9       1     88     99    \n",
       "9  1005 3     1     2        4        M         4  0      -2      1      2    \n",
       "10 1006 1     1     1        1        M        51  0      99     88     99    \n",
       "   abs_mont absence_ resident migrate last_pla gender_n clustnum\n",
       "1  0        -2       1        2       -2       3        1       \n",
       "2  0        -2       1        2       -2       2        1       \n",
       "3  0        -2       1        2       -2       3        1       \n",
       "4  0        -2       1        2       -2       3        1       \n",
       "5  0        -2       1        2       -2       2        1       \n",
       "6  2        11       1        2       -2       3        1       \n",
       "7  0        -2       1        2       -2       3        1       \n",
       "8  0        -2       1        2       -2       2        1       \n",
       "9  0        -2       1        2       -2       3        1       \n",
       "10 0        -2       1        2       -2       3        1       "
      ]
     },
     "metadata": {},
     "output_type": "display_data"
    }
   ],
   "source": [
    "# Read in both dataframes\n",
    "inc <- read_stata('./HHINCTL.dta')\n",
    "rost <- read_stata('./M8_HROST.dta')\n",
    "\n",
    "\n",
    "# How many observations are in the income data?\n",
    "N <- nrow(inc)\n",
    "print(paste0(N, \" households\"))\n",
    "\n",
    "\n",
    "# See first 10 rows of the roster data\n",
    "head(rost, 10)\n"
   ]
  },
  {
   "cell_type": "markdown",
   "id": "c2a0f84a-20ac-4822-bbf0-5d886e48236d",
   "metadata": {},
   "source": [
    "Look at the first two lines above. These two people live in a household called 1001 (hhid=1001). There are two people in the household. Person 1 (`pcode=1`) is the household head, Male, 62 years old. Person 2 (`pcode=2`) is the wife of the head of the household, Female, 45 years old. The third line then tells you about person 1 in household 1002, etc. Get it? And do you see how they correspond to the survey questionnaire, Section 1?\n",
    "\n",
    "OK, back to the question of how we compute how many people are in each household. You don't want to do this by hand, there are over 6,000 households in the data set! There are many ways we can do this in R. One such way is to use `dplyr`'s `group_by()` function followed by `mutate()`."
   ]
  },
  {
   "cell_type": "code",
   "execution_count": 3,
   "id": "8541fac4-ad00-46cd-814e-7ae789018bb5",
   "metadata": {},
   "outputs": [],
   "source": [
    "# Create variable for # of HH members\n",
    "rost <- rost %>% arrange(hhid) %>% group_by(hhid) %>%\n",
    "  mutate(hh_size = n())"
   ]
  },
  {
   "cell_type": "markdown",
   "id": "43badb77-217d-4d51-8759-21b0bcff24e7",
   "metadata": {},
   "source": [
    "What's going on above invovles a few steps so lets unpack them one by one. \n",
    "\n",
    "First, `%>%` is known as the pipe operator and what it does is use the previous data frame as the first argument of the following function. So `rost %>% arrange(hhid)` takes the dataframe `rost` and then sorts it by the column `hhid`. `group_by()` then groups the data by `hhid`. After `group_by()` (note how we can continue the code on the following line after a pipe) we use the `mutate()` function to create a new column called `hh_size` that's equal to the number of observations in each group using the function `n()`. Note that we're assigning the outcome of this whole thing to `rost` (overwriting the original object). \n",
    "\n",
    "We may also want to know how many children and adults are in each household, which we can create as follows by summing up the values of the Boolean (TRUE/FALSE) statements within each household."
   ]
  },
  {
   "cell_type": "code",
   "execution_count": 4,
   "id": "36130295-a228-4046-abef-fcc05595249e",
   "metadata": {},
   "outputs": [],
   "source": [
    "rost <- rost %>% mutate(adults = sum(age>=16), kids = sum(age<16))"
   ]
  },
  {
   "cell_type": "markdown",
   "id": "41af8680-4d94-4741-9989-057a25a83fdf",
   "metadata": {},
   "source": [
    "This is all the information we really need out of `rost` and since these variables are the same for all observations within each household, we can make our lives easier by only keeping one row per household as follows"
   ]
  },
  {
   "cell_type": "code",
   "execution_count": 5,
   "id": "54c1ea9d-5f6d-46b3-a3b1-cefd6dd83935",
   "metadata": {},
   "outputs": [],
   "source": [
    "rost <- rost %>% slice(1)"
   ]
  },
  {
   "cell_type": "markdown",
   "id": "92f34c6c-d002-4c88-90c8-9acaad9ab61c",
   "metadata": {},
   "source": [
    "Now that we've collapsed everything down to the household level, we'd like to merge the data on houeshold size with the data on incomes we loaded earlier. We do so as follows, creating a new dataframe called `df`. \n",
    "\n",
    "We need to choose which variables to merge on (note that these variables should uniquely identify rows in at least one of the data frames) and put them in quotes inside the `by` argument. Also, when we want to denote a list in R, we need to wrap it with `c()`. We want to merge on both `hhid` and `clustnum` here because they both identify rows in both dataframes (you could just merge on `hhid` but then it would create a `clustnum.x` and a `clustnum.y`, which would be annoying). Finally, we specifiy `all = T` (or equivalently `all = TRUE`) to indicate that we want to keep all observations from both dataframes, even if they don't match each other ."
   ]
  },
  {
   "cell_type": "code",
   "execution_count": 6,
   "id": "00b2ee05-fdfa-4611-b8b3-52b38d4fb1ee",
   "metadata": {},
   "outputs": [],
   "source": [
    "# merge the two dataframes\n",
    "df <- merge(inc, rost, by=c('hhid','clustnum'), all = T)"
   ]
  },
  {
   "cell_type": "markdown",
   "id": "28b932d5-4bbb-4d74-890e-f3f1c26684b7",
   "metadata": {},
   "source": [
    "All we've got to do now is create a variable for household income per capita and then a dummy for whether the household's income (`totminc`) is below the poverty line of 150 Rand. Note that there are multiple ways to create variables (columns) in a dataframe.  "
   ]
  },
  {
   "cell_type": "code",
   "execution_count": 7,
   "id": "548acb58-f698-4b60-86d9-8deea0679276",
   "metadata": {},
   "outputs": [],
   "source": [
    "df <- df %>% mutate(inc_percapita = totminc/hh_size)\n",
    "df$is_poor <- df$inc_percapita < 150 # $ is used to access a dataframe column"
   ]
  },
  {
   "cell_type": "markdown",
   "id": "aafdc05f-899f-4f0c-a353-22db54045728",
   "metadata": {},
   "source": [
    "What's the poverty rate? We just need to take the average of `is_poor`. But since some rows have missing data on incomes, we need to specify `na.rm = T`. (Here, we're choosing to ignore households missing data for simplicity, although this is not always a good idea in practice. You can also just drop these households altogether using `df <- df %>% drop_na(totminc)`.)"
   ]
  },
  {
   "cell_type": "code",
   "execution_count": 18,
   "id": "671e2101-936f-4220-92e0-d87a45837ace",
   "metadata": {
    "scrolled": true
   },
   "outputs": [
    {
     "data": {
      "text/html": [
       "0.381051656242761"
      ],
      "text/latex": [
       "0.381051656242761"
      ],
      "text/markdown": [
       "0.381051656242761"
      ],
      "text/plain": [
       "[1] 0.3810517"
      ]
     },
     "metadata": {},
     "output_type": "display_data"
    }
   ],
   "source": [
    "mean(df$is_poor, na.rm = T)"
   ]
  },
  {
   "cell_type": "markdown",
   "id": "5aae4dd8-6bd4-46d4-a7ee-0f783ad7ded9",
   "metadata": {},
   "source": [
    "So 38.1% of households live below the poverty line"
   ]
  },
  {
   "cell_type": "markdown",
   "id": "b91d5b87-7460-4664-8cc4-06818d36fb69",
   "metadata": {},
   "source": [
    "### B. I have computed the headcount poverty measure, $P_0$. Now you compute the poverty gap ($P_1$) and ($P_2$) poverty measures. \n",
    "_Hint:_ For the poverty gap measure $P_1$, after you compute income per capita, compute $1-\\frac{y}{z}$ for each household, multiply this by your `is_poor` variable and then sum across all households. I'll leave it to you to figure out how to do $P_2$"
   ]
  },
  {
   "cell_type": "code",
   "execution_count": null,
   "id": "ee9a2cb5-9db0-4460-b96a-eb6f68987124",
   "metadata": {},
   "outputs": [],
   "source": []
  },
  {
   "cell_type": "markdown",
   "id": "9f715d53-082f-49b9-83d0-27a7952ddba2",
   "metadata": {},
   "source": [
    "## Question 2. Adult Equivalents\n",
    "\n",
    "Now compute the poverty rate (using headcount measure) but adjust for adult equivalents so that children (age < 16) are only worth half of an adult, i.e. $\\gamma=0.5$. How does the poverty rate change? \n",
    "\n",
    "_Hint:_ instead of counting up the number of people in the household, count up the number of children and the number of adults separately)."
   ]
  },
  {
   "cell_type": "code",
   "execution_count": null,
   "id": "647ae20f-f621-486f-8ca6-134f9ac7a686",
   "metadata": {},
   "outputs": [],
   "source": []
  },
  {
   "cell_type": "markdown",
   "id": "765da183-ac1c-41d8-b67e-5822ae72a5a0",
   "metadata": {},
   "source": [
    "## Question 3. By Race and Urban/Rural \n",
    "\n",
    "A. Use the adult equivalents in 2 but now compute the headcount measure by race.\n",
    "\n",
    "B. Now calculate the headcount ratio by urban/rural poverty (_Hint:_ the merge here will be by `clustnum`). "
   ]
  },
  {
   "cell_type": "code",
   "execution_count": null,
   "id": "58434965-323f-4773-bc2f-caaf2951af3b",
   "metadata": {},
   "outputs": [],
   "source": []
  },
  {
   "cell_type": "markdown",
   "id": "80be8b8c-0013-4c85-9c16-2185b8c9f3ef",
   "metadata": {},
   "source": [
    "## Question 4: Final Proposal\n",
    "\n",
    "The objective of your analysis is to make recommendations to the Government of South Africa and the World Bank as to how to target their efforts to reduce poverty. Give your punch line: if the objective of eliminating poverty is to be met, where should South Africa and the World Bank concentrate their efforts? Are there any caveats regarding the analysis? \n",
    "\n"
   ]
  },
  {
   "cell_type": "markdown",
   "id": "274db987-33ec-40c1-b567-1e39f7edf31d",
   "metadata": {},
   "source": [
    " "
   ]
  },
  {
   "cell_type": "markdown",
   "id": "0b5f572c-2f39-4eef-b8b0-2883d5e85d8f",
   "metadata": {},
   "source": []
  }
 ],
 "metadata": {
  "kernelspec": {
   "display_name": "R [conda env:r]",
   "language": "R",
   "name": "conda-env-r-r"
  },
  "language_info": {
   "codemirror_mode": "r",
   "file_extension": ".r",
   "mimetype": "text/x-r-source",
   "name": "R",
   "pygments_lexer": "r",
   "version": "3.6.1"
  }
 },
 "nbformat": 4,
 "nbformat_minor": 5
}
