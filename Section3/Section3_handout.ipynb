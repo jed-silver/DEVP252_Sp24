{
 "cells": [
  {
   "cell_type": "markdown",
   "id": "dc31d7b9-6d96-41e3-a578-0c5a2071a725",
   "metadata": {},
   "source": [
    "# Section 3: RCTs\n",
    "\n",
    "Today we are going to go over RCTs somewhat interactively in R, with the hope of building familiarity with the type of analysis you might do on your final projects. As in class, we are going to go over the _Cash or Condition_ paper by Baird et al (2011). Recall that the paper studies a randomized control trial in which teenage girls in Malawi were offered a cash transfer that was either conditional on their school attendance or unconditional or were offered no cash transfer. The outcome we will mostly be looking at today is how each type of transfer `T2a` and `T2b` affected teen pregnancy rates `ever_pregnant`. "
   ]
  },
  {
   "cell_type": "code",
   "execution_count": 2,
   "id": "19e61242-107f-46b3-ade6-aac1dd4324fc",
   "metadata": {},
   "outputs": [],
   "source": [
    "# load packages we will need\n",
    "pacman::p_load(tidyverse, haven, lfe, texreg, modelsummary)\n",
    "# load data\n",
    "df <- read_stata('CorC_Public_Data_FINAL_PubH6445.dta') \n",
    "# get just panel data from round 3\n",
    "df3 <- df %>% subset(panel == T & round == 3)"
   ]
  },
  {
   "cell_type": "markdown",
   "id": "a6fed862-5589-4e01-a456-e6cff079a673",
   "metadata": {},
   "source": [
    "## What is an RCT?\n",
    "The main challenge of identifying the causal impact of a policy or program is constructing a valid counterfactual for what would have happened to treated individuals had they not been treated. Of course, we never observe the same individual being both treated and untreated at a given time. So the next best thing we can do is compare groups of people that were statistically identical before the treatment after some of them get the treatment and others don't. We can do this by randomizing who gets treated and who doesn't. If treatment is random, we can be almost positive that the _only_ difference between the treatment and control group is the effect of the treatment, as long as our sample is large enough. \n",
    "\n",
    "When feasible, randomization is the most rigorous approach to construct a treatment and a control group from among an eligible population (see Duflo, 2006; Banerjee and Duflo, 2009).\n",
    "\n",
    "How do we analyze an RCT If we want to know the **average treatment effects ATE** of a program, then all we need to do is compare the average value of our outcome in the treatment group to its average value in the control group.\n",
    "\n",
    "$$ ATE = \\bar Y_T - \\bar Y_C$$\n",
    "\n",
    "We could also accomplish this (and get standard errors) by doing this in regression form,\n",
    "\n",
    "$$ Y_i = \\alpha + \\beta Treat_i + u_i $$\n",
    "where $\\beta$ is the ATE. \n",
    "\n",
    "Of course, in our Malawi case, we have two mutually-exclusive treatments, but this doesn't complicate things much. We can still estimate the ATEs for each of the conditional (CCT) and unconditional (UCT) cash transfers\n",
    "\n",
    "$$ EverPregnant_i = \\alpha + \\beta_1 CCT_i + \\beta_2 UCT_i + u_i $$\n",
    "\n",
    "Here $\\beta_1$ is the average treatment effect of receiving a conditional cash transfer and $\\beta_2$ s the average treatment effect of receiving a conditional cash transfer on teen pregnancy.\n",
    "\n",
    "1. Compute $\\beta_1$ and $\\beta_2$ without a regression by comparing means across groups.\n",
    "2. Estimate $\\beta_1$ and $\\beta_2$ from a regression. \n",
    "\n"
   ]
  },
  {
   "cell_type": "code",
   "execution_count": 3,
   "id": "7d530e9d-5d85-49a1-8461-111a3b18db17",
   "metadata": {},
   "outputs": [
    {
     "data": {
      "text/html": [
       "<style>\n",
       ".list-inline {list-style: none; margin:0; padding: 0}\n",
       ".list-inline>li {display: inline-block}\n",
       ".list-inline>li:not(:last-child)::after {content: \"\\00b7\"; padding: 0 .5ex}\n",
       "</style>\n",
       "<ol class=list-inline><li>'round'</li><li>'ever_pregnant'</li><li>'never_had_sex'</li><li>'ever_married'</li><li>'mobile'</li><li>'asset_index'</li><li>'hhsize'</li><li>'female_headed'</li><li>'inschool_term2_2009_SS'</li><li>'partII_round3'</li><li>'eaid'</li><li>'treatment'</li><li>'T2a'</li><li>'T2b'</li><li>'C2'</li><li>'age_R1'</li><li>'_Iage_R1_14'</li><li>'_Iage_R1_15'</li><li>'_Iage_R1_16'</li><li>'_Iage_R1_17'</li><li>'_Iage_R1_18'</li><li>'_Iage_R1_19'</li><li>'_Iage_R1_20'</li><li>'stratum1'</li><li>'stratum2'</li><li>'highest_grade_bl'</li><li>'asset_index_bl'</li><li>'never_had_sex_bl'</li><li>'panel'</li><li>'wgt'</li><li>'wgt_SSR3'</li><li>'num_terms_enrolled_SS'</li></ol>\n"
      ],
      "text/latex": [
       "\\begin{enumerate*}\n",
       "\\item 'round'\n",
       "\\item 'ever\\_pregnant'\n",
       "\\item 'never\\_had\\_sex'\n",
       "\\item 'ever\\_married'\n",
       "\\item 'mobile'\n",
       "\\item 'asset\\_index'\n",
       "\\item 'hhsize'\n",
       "\\item 'female\\_headed'\n",
       "\\item 'inschool\\_term2\\_2009\\_SS'\n",
       "\\item 'partII\\_round3'\n",
       "\\item 'eaid'\n",
       "\\item 'treatment'\n",
       "\\item 'T2a'\n",
       "\\item 'T2b'\n",
       "\\item 'C2'\n",
       "\\item 'age\\_R1'\n",
       "\\item '\\_Iage\\_R1\\_14'\n",
       "\\item '\\_Iage\\_R1\\_15'\n",
       "\\item '\\_Iage\\_R1\\_16'\n",
       "\\item '\\_Iage\\_R1\\_17'\n",
       "\\item '\\_Iage\\_R1\\_18'\n",
       "\\item '\\_Iage\\_R1\\_19'\n",
       "\\item '\\_Iage\\_R1\\_20'\n",
       "\\item 'stratum1'\n",
       "\\item 'stratum2'\n",
       "\\item 'highest\\_grade\\_bl'\n",
       "\\item 'asset\\_index\\_bl'\n",
       "\\item 'never\\_had\\_sex\\_bl'\n",
       "\\item 'panel'\n",
       "\\item 'wgt'\n",
       "\\item 'wgt\\_SSR3'\n",
       "\\item 'num\\_terms\\_enrolled\\_SS'\n",
       "\\end{enumerate*}\n"
      ],
      "text/markdown": [
       "1. 'round'\n",
       "2. 'ever_pregnant'\n",
       "3. 'never_had_sex'\n",
       "4. 'ever_married'\n",
       "5. 'mobile'\n",
       "6. 'asset_index'\n",
       "7. 'hhsize'\n",
       "8. 'female_headed'\n",
       "9. 'inschool_term2_2009_SS'\n",
       "10. 'partII_round3'\n",
       "11. 'eaid'\n",
       "12. 'treatment'\n",
       "13. 'T2a'\n",
       "14. 'T2b'\n",
       "15. 'C2'\n",
       "16. 'age_R1'\n",
       "17. '_Iage_R1_14'\n",
       "18. '_Iage_R1_15'\n",
       "19. '_Iage_R1_16'\n",
       "20. '_Iage_R1_17'\n",
       "21. '_Iage_R1_18'\n",
       "22. '_Iage_R1_19'\n",
       "23. '_Iage_R1_20'\n",
       "24. 'stratum1'\n",
       "25. 'stratum2'\n",
       "26. 'highest_grade_bl'\n",
       "27. 'asset_index_bl'\n",
       "28. 'never_had_sex_bl'\n",
       "29. 'panel'\n",
       "30. 'wgt'\n",
       "31. 'wgt_SSR3'\n",
       "32. 'num_terms_enrolled_SS'\n",
       "\n",
       "\n"
      ],
      "text/plain": [
       " [1] \"round\"                  \"ever_pregnant\"          \"never_had_sex\"         \n",
       " [4] \"ever_married\"           \"mobile\"                 \"asset_index\"           \n",
       " [7] \"hhsize\"                 \"female_headed\"          \"inschool_term2_2009_SS\"\n",
       "[10] \"partII_round3\"          \"eaid\"                   \"treatment\"             \n",
       "[13] \"T2a\"                    \"T2b\"                    \"C2\"                    \n",
       "[16] \"age_R1\"                 \"_Iage_R1_14\"            \"_Iage_R1_15\"           \n",
       "[19] \"_Iage_R1_16\"            \"_Iage_R1_17\"            \"_Iage_R1_18\"           \n",
       "[22] \"_Iage_R1_19\"            \"_Iage_R1_20\"            \"stratum1\"              \n",
       "[25] \"stratum2\"               \"highest_grade_bl\"       \"asset_index_bl\"        \n",
       "[28] \"never_had_sex_bl\"       \"panel\"                  \"wgt\"                   \n",
       "[31] \"wgt_SSR3\"               \"num_terms_enrolled_SS\" "
      ]
     },
     "metadata": {},
     "output_type": "display_data"
    }
   ],
   "source": [
    "# First check the names of what we're working with\n",
    "names(df3)"
   ]
  },
  {
   "cell_type": "code",
   "execution_count": null,
   "id": "fc3752e1-9ee2-4c34-acd0-d2e22ba20ec4",
   "metadata": {
    "scrolled": true
   },
   "outputs": [],
   "source": []
  },
  {
   "cell_type": "code",
   "execution_count": null,
   "id": "4e47da5e-37c7-4bef-84f2-2e5f033d9c5c",
   "metadata": {},
   "outputs": [],
   "source": []
  },
  {
   "cell_type": "markdown",
   "id": "606ec916-14f6-4d98-9e9c-138e1698640d",
   "metadata": {},
   "source": [
    "## A Few Practical Concerns\n",
    "\n",
    "Most household surveys come with sampling weights. These weights assign different importance to different observations (inversely) based on the probability that they were included in the sample. This is because it's not usually feasible to survey a group of people that's exactly representative of the population of interest. But fortunately, surveys come with weights that we can apply in order to make the sample representative of the broader population. We can implement this in R by specifying the column containing our sampling weights `wgt` in the `weights` argument in `felm`. \n",
    "\n",
    "We also want to make sure we're using the right standard errors to conduct statistical inference. The default standard errors we get when we run `felm` or some other regression package are almost never the ones we actually want, because they make unrealistic assumptions about the distribution of the error term. When it comes to RCTs, best practice is to cluster standard errors at the level at which treatment was assigned. (This essentially allows the error term to be arbitrarily correlated within clusters. For example, we might expect unobserved factors affecting pregnancy to more highly correlated among girls from the same village. This generally produces more conservative estimates than unadjusted standard errors). In this case, treatment was assigned at the community level so we can use the variable `eaid` to cluster. We can simply specify this with the `cluster` argument in `felm` (for now at least). \n",
    "\n",
    "3. Re-run your regression applying the appropriate sampling weights. Then also cluster your standard errors at the village level. How does this affect the standard errors? How does this affect the coefficients?"
   ]
  },
  {
   "cell_type": "code",
   "execution_count": null,
   "id": "cdd6caa7-22a2-4b6e-a330-1c09b3682149",
   "metadata": {},
   "outputs": [],
   "source": []
  },
  {
   "cell_type": "markdown",
   "id": "9edf1351-cf31-49ca-aa8c-20896ea448dc",
   "metadata": {
    "scrolled": true
   },
   "source": [
    "## Tests and Adjustments\n",
    "\n",
    "Now that we've got the mechanics down, should we believe these estimates we've just computed? The key assumption is that the randomization did in fact result in two statistically identicial groups. Unfortunately, we can't test this assumption directly because there are many variables we can't observe. But as a smell test, we can at least test whether observable attributes (that are either measured before the treatment or are fixed) are statistically different between the two groups. \n",
    "\n",
    "4. Statistically test whether the baseline variables `age_R1`, `highest_grade_bl`, `asset_index_bl` and `never_had_sex_bl` vary across groups. First compare CCT to control and then UCT to control. "
   ]
  },
  {
   "cell_type": "code",
   "execution_count": null,
   "id": "91460813-a038-45c9-9f58-d1f32e456929",
   "metadata": {},
   "outputs": [],
   "source": []
  },
  {
   "cell_type": "markdown",
   "id": "cba7cd54-9c34-4f50-aed1-a47156bc9104",
   "metadata": {},
   "source": [
    "Okay, so we see some statistically significant differences across treatment and control. That's potentially a concern (in the case of this paper, it seems like attrition -- i.e. people dropping out of the study --is correlated with treatment and causing these compositional difference. Attrition comes with its own set of issues that we won't discuss here). Do we necessarily have to worry about these differences though? Not really. As long we believe the randomization was done properly we can always control for them in order to hold these attributes that happen to differ across groups fixed. \n",
    "\n",
    "Another advantage of adding (pre-determined) controls is that they increase the precision of our treatment effect estimates by soaking up a lot of the additional variation that was not explained by the model without controls. \n",
    "\n",
    "5. Add the covariates you used above to the regression, but use the dummy variables `_Iage_R1_14-20` instead of `age_R1` and also control for `stratum1` and `stratum2`.\n",
    "   \n",
    "   a. Are these additional variables statistically significant? Is this surprising or not?\n",
    "   \n",
    "   b. How do the treatment effects you estimate compare to the ones you estimated without controls. Does this suggest that the sample imbalances you found were affecting our results or not?\n",
    "   \n",
    "   c. What happens to the precision of our estimates when we add controls?\n",
    "   "
   ]
  },
  {
   "cell_type": "code",
   "execution_count": null,
   "id": "55668b94-c732-48de-9816-33f91e0b6eca",
   "metadata": {},
   "outputs": [],
   "source": []
  },
  {
   "cell_type": "markdown",
   "id": "2c99d3bb-b955-45cd-b5c9-8cc7099b62bc",
   "metadata": {},
   "source": [
    "Note that we've only been using the third round of data so far. The nice thing about an RCT is that we don't even need pre-period data because the only different between groups post-treatment is the effect of the treatment. But we still can use pre-period data, again both as a robustness check and to increase precision, by running a diff-in-diff. Randomization ensures that trends in pregnancy (like everything else) are the same across groups, so we get parallel trends for free. \n",
    "\n",
    "6. Estimate treatment effects using the full dataset `df`. Assume the \"post\" period is round 3. How have the coefficients changed? Is this what you expected?"
   ]
  },
  {
   "cell_type": "code",
   "execution_count": 9,
   "id": "37dc38b8-56c0-4494-9743-f6679d2b5822",
   "metadata": {},
   "outputs": [],
   "source": []
  }
 ],
 "metadata": {
  "kernelspec": {
   "display_name": "R",
   "language": "R",
   "name": "ir"
  },
  "language_info": {
   "codemirror_mode": "r",
   "file_extension": ".r",
   "mimetype": "text/x-r-source",
   "name": "R",
   "pygments_lexer": "r",
   "version": "4.3.2"
  }
 },
 "nbformat": 4,
 "nbformat_minor": 5
}
