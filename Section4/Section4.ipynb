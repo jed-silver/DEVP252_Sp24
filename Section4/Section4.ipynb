{
 "cells": [
  {
   "cell_type": "markdown",
   "id": "f1dce745-30a9-4727-85b4-fe083e3eba5e",
   "metadata": {},
   "source": [
    "# Section 4\n",
    "\n",
    "[Link to notebook](https://datahub.berkeley.edu/hub/user-redirect/git-pull?repo=https%3A%2F%2Fgithub.com%2Fjed-silver%2FDEVP252_Sp24&urlpath=tree%2FDEVP252_Sp24%2FSection4%2FSection4.ipynb&branch=main)\n",
    "\n",
    "Today will be a review of some R basics that will help you get started on your final projects. "
   ]
  },
  {
   "cell_type": "markdown",
   "id": "bb308468-f6dd-406f-a062-c33f3b6193a4",
   "metadata": {},
   "source": [
    "### Setup\n",
    "\n",
    "Load packages"
   ]
  },
  {
   "cell_type": "code",
   "execution_count": 15,
   "id": "f8cd3f79-48c8-45ed-bc3c-2f55b5a179e2",
   "metadata": {},
   "outputs": [],
   "source": [
    "pacman::p_load(tidyverse, haven)"
   ]
  },
  {
   "cell_type": "markdown",
   "id": "faca41d5-856b-496f-a254-0f9d3ff6e6c4",
   "metadata": {},
   "source": [
    "Read in data"
   ]
  },
  {
   "cell_type": "code",
   "execution_count": 16,
   "id": "8177149c-be1f-41cb-80d9-4f399c109105",
   "metadata": {
    "editable": true,
    "slideshow": {
     "slide_type": ""
    },
    "tags": []
   },
   "outputs": [],
   "source": [
    "m_a <- read_dta('Data/009_bihs_r3_male_mod_a.dta') # Main household demographics\n",
    "m_h1 <- read_dta('Data/021_bihs_r3_male_mod_h1.dta') #Agricultural plot utilization\n",
    "m_g <- read_dta('Data/020_bihs_r3_male_mod_g.dta') \n",
    "m_b1 <- read_dta('Data/010_bihs_r3_male_mod_b1.dta') %>% subset(mem_stat < 7) %>% select(a01, mid, b1_01)"
   ]
  },
  {
   "cell_type": "markdown",
   "id": "9f8635a4-fe3d-450f-830b-a6280633eced",
   "metadata": {},
   "source": [
    "Look at the names of the variables"
   ]
  },
  {
   "cell_type": "code",
   "execution_count": 17,
   "id": "fc21e2a4-0ffb-4b4b-8a2a-7d889ce35392",
   "metadata": {
    "scrolled": true
   },
   "outputs": [
    {
     "data": {
      "text/html": [
       "<style>\n",
       ".list-inline {list-style: none; margin:0; padding: 0}\n",
       ".list-inline>li {display: inline-block}\n",
       ".list-inline>li:not(:last-child)::after {content: \"\\00b7\"; padding: 0 .5ex}\n",
       "</style>\n",
       "<ol class=list-inline><li>'a01'</li><li>'stime_h_a'</li><li>'stime_m_a'</li><li>'res_id_a'</li><li>'consent_a'</li><li>'hh_type'</li><li>'a02'</li><li>'x1'</li><li>'dvcode'</li><li>'div'</li><li>'div_name'</li><li>'district'</li><li>'upazila'</li><li>'union'</li><li>'mouza'</li><li>'village'</li><li>'community_id'</li><li>'a10'</li><li>'a11'</li><li>'a12'</li><li>'a13'</li><li>'a13oth'</li><li>'a14'</li><li>'a14oth'</li><li>'a15'</li><li>'a15oth'</li><li>'a16_1_dd'</li><li>'a16_1_mm'</li><li>'a16_1_yy'</li><li>'a16_2_dd'</li><li>'a16_2_mm'</li><li>'a16_2_yy'</li><li>'a16_3_dd'</li><li>'a16_3_mm'</li><li>'a16_3_yy'</li><li>'a16_4_dd'</li><li>'a16_4_mm'</li><li>'a16_4_yy'</li><li>'a16_5_dd'</li><li>'a16_5_mm'</li><li>'a16_5_yy'</li><li>'a18'</li><li>'a19'</li><li>'a20_dd'</li><li>'a20_mm'</li><li>'a20_yy'</li><li>'a21'</li><li>'a22'</li><li>'a23'</li><li>'a24'</li><li>'a25'</li><li>'a26'</li><li>'a27'</li><li>'a27oth'</li><li>'etime_h_a'</li><li>'etime_m_a'</li><li>'hhid2'</li><li>'flag_a'</li><li>'round'</li></ol>\n"
      ],
      "text/latex": [
       "\\begin{enumerate*}\n",
       "\\item 'a01'\n",
       "\\item 'stime\\_h\\_a'\n",
       "\\item 'stime\\_m\\_a'\n",
       "\\item 'res\\_id\\_a'\n",
       "\\item 'consent\\_a'\n",
       "\\item 'hh\\_type'\n",
       "\\item 'a02'\n",
       "\\item 'x1'\n",
       "\\item 'dvcode'\n",
       "\\item 'div'\n",
       "\\item 'div\\_name'\n",
       "\\item 'district'\n",
       "\\item 'upazila'\n",
       "\\item 'union'\n",
       "\\item 'mouza'\n",
       "\\item 'village'\n",
       "\\item 'community\\_id'\n",
       "\\item 'a10'\n",
       "\\item 'a11'\n",
       "\\item 'a12'\n",
       "\\item 'a13'\n",
       "\\item 'a13oth'\n",
       "\\item 'a14'\n",
       "\\item 'a14oth'\n",
       "\\item 'a15'\n",
       "\\item 'a15oth'\n",
       "\\item 'a16\\_1\\_dd'\n",
       "\\item 'a16\\_1\\_mm'\n",
       "\\item 'a16\\_1\\_yy'\n",
       "\\item 'a16\\_2\\_dd'\n",
       "\\item 'a16\\_2\\_mm'\n",
       "\\item 'a16\\_2\\_yy'\n",
       "\\item 'a16\\_3\\_dd'\n",
       "\\item 'a16\\_3\\_mm'\n",
       "\\item 'a16\\_3\\_yy'\n",
       "\\item 'a16\\_4\\_dd'\n",
       "\\item 'a16\\_4\\_mm'\n",
       "\\item 'a16\\_4\\_yy'\n",
       "\\item 'a16\\_5\\_dd'\n",
       "\\item 'a16\\_5\\_mm'\n",
       "\\item 'a16\\_5\\_yy'\n",
       "\\item 'a18'\n",
       "\\item 'a19'\n",
       "\\item 'a20\\_dd'\n",
       "\\item 'a20\\_mm'\n",
       "\\item 'a20\\_yy'\n",
       "\\item 'a21'\n",
       "\\item 'a22'\n",
       "\\item 'a23'\n",
       "\\item 'a24'\n",
       "\\item 'a25'\n",
       "\\item 'a26'\n",
       "\\item 'a27'\n",
       "\\item 'a27oth'\n",
       "\\item 'etime\\_h\\_a'\n",
       "\\item 'etime\\_m\\_a'\n",
       "\\item 'hhid2'\n",
       "\\item 'flag\\_a'\n",
       "\\item 'round'\n",
       "\\end{enumerate*}\n"
      ],
      "text/markdown": [
       "1. 'a01'\n",
       "2. 'stime_h_a'\n",
       "3. 'stime_m_a'\n",
       "4. 'res_id_a'\n",
       "5. 'consent_a'\n",
       "6. 'hh_type'\n",
       "7. 'a02'\n",
       "8. 'x1'\n",
       "9. 'dvcode'\n",
       "10. 'div'\n",
       "11. 'div_name'\n",
       "12. 'district'\n",
       "13. 'upazila'\n",
       "14. 'union'\n",
       "15. 'mouza'\n",
       "16. 'village'\n",
       "17. 'community_id'\n",
       "18. 'a10'\n",
       "19. 'a11'\n",
       "20. 'a12'\n",
       "21. 'a13'\n",
       "22. 'a13oth'\n",
       "23. 'a14'\n",
       "24. 'a14oth'\n",
       "25. 'a15'\n",
       "26. 'a15oth'\n",
       "27. 'a16_1_dd'\n",
       "28. 'a16_1_mm'\n",
       "29. 'a16_1_yy'\n",
       "30. 'a16_2_dd'\n",
       "31. 'a16_2_mm'\n",
       "32. 'a16_2_yy'\n",
       "33. 'a16_3_dd'\n",
       "34. 'a16_3_mm'\n",
       "35. 'a16_3_yy'\n",
       "36. 'a16_4_dd'\n",
       "37. 'a16_4_mm'\n",
       "38. 'a16_4_yy'\n",
       "39. 'a16_5_dd'\n",
       "40. 'a16_5_mm'\n",
       "41. 'a16_5_yy'\n",
       "42. 'a18'\n",
       "43. 'a19'\n",
       "44. 'a20_dd'\n",
       "45. 'a20_mm'\n",
       "46. 'a20_yy'\n",
       "47. 'a21'\n",
       "48. 'a22'\n",
       "49. 'a23'\n",
       "50. 'a24'\n",
       "51. 'a25'\n",
       "52. 'a26'\n",
       "53. 'a27'\n",
       "54. 'a27oth'\n",
       "55. 'etime_h_a'\n",
       "56. 'etime_m_a'\n",
       "57. 'hhid2'\n",
       "58. 'flag_a'\n",
       "59. 'round'\n",
       "\n",
       "\n"
      ],
      "text/plain": [
       " [1] \"a01\"          \"stime_h_a\"    \"stime_m_a\"    \"res_id_a\"     \"consent_a\"   \n",
       " [6] \"hh_type\"      \"a02\"          \"x1\"           \"dvcode\"       \"div\"         \n",
       "[11] \"div_name\"     \"district\"     \"upazila\"      \"union\"        \"mouza\"       \n",
       "[16] \"village\"      \"community_id\" \"a10\"          \"a11\"          \"a12\"         \n",
       "[21] \"a13\"          \"a13oth\"       \"a14\"          \"a14oth\"       \"a15\"         \n",
       "[26] \"a15oth\"       \"a16_1_dd\"     \"a16_1_mm\"     \"a16_1_yy\"     \"a16_2_dd\"    \n",
       "[31] \"a16_2_mm\"     \"a16_2_yy\"     \"a16_3_dd\"     \"a16_3_mm\"     \"a16_3_yy\"    \n",
       "[36] \"a16_4_dd\"     \"a16_4_mm\"     \"a16_4_yy\"     \"a16_5_dd\"     \"a16_5_mm\"    \n",
       "[41] \"a16_5_yy\"     \"a18\"          \"a19\"          \"a20_dd\"       \"a20_mm\"      \n",
       "[46] \"a20_yy\"       \"a21\"          \"a22\"          \"a23\"          \"a24\"         \n",
       "[51] \"a25\"          \"a26\"          \"a27\"          \"a27oth\"       \"etime_h_a\"   \n",
       "[56] \"etime_m_a\"    \"hhid2\"        \"flag_a\"       \"round\"       "
      ]
     },
     "metadata": {},
     "output_type": "display_data"
    }
   ],
   "source": [
    "names(m_a)"
   ]
  },
  {
   "cell_type": "code",
   "execution_count": 18,
   "id": "0b13a9f3-12e3-4aa5-bb41-193304513145",
   "metadata": {},
   "outputs": [
    {
     "data": {
      "text/html": [
       "<table class=\"dataframe\">\n",
       "<caption>A tibble: 6 × 59</caption>\n",
       "<thead>\n",
       "\t<tr><th scope=col>a01</th><th scope=col>stime_h_a</th><th scope=col>stime_m_a</th><th scope=col>res_id_a</th><th scope=col>consent_a</th><th scope=col>hh_type</th><th scope=col>a02</th><th scope=col>x1</th><th scope=col>dvcode</th><th scope=col>div</th><th scope=col>⋯</th><th scope=col>a24</th><th scope=col>a25</th><th scope=col>a26</th><th scope=col>a27</th><th scope=col>a27oth</th><th scope=col>etime_h_a</th><th scope=col>etime_m_a</th><th scope=col>hhid2</th><th scope=col>flag_a</th><th scope=col>round</th></tr>\n",
       "\t<tr><th scope=col>&lt;dbl&gt;</th><th scope=col>&lt;dbl&gt;</th><th scope=col>&lt;dbl&gt;</th><th scope=col>&lt;dbl&gt;</th><th scope=col>&lt;dbl&gt;</th><th scope=col>&lt;dbl+lbl&gt;</th><th scope=col>&lt;dbl&gt;</th><th scope=col>&lt;dbl+lbl&gt;</th><th scope=col>&lt;dbl&gt;</th><th scope=col>&lt;chr&gt;</th><th scope=col>⋯</th><th scope=col>&lt;dbl&gt;</th><th scope=col>&lt;dbl&gt;</th><th scope=col>&lt;dbl+lbl&gt;</th><th scope=col>&lt;dbl+lbl&gt;</th><th scope=col>&lt;chr&gt;</th><th scope=col>&lt;dbl&gt;</th><th scope=col>&lt;dbl&gt;</th><th scope=col>&lt;chr&gt;</th><th scope=col>&lt;dbl+lbl&gt;</th><th scope=col>&lt;dbl+lbl&gt;</th></tr>\n",
       "</thead>\n",
       "<tbody>\n",
       "\t<tr><td>117</td><td>8</td><td>30</td><td>1</td><td>1</td><td>3</td><td>NA</td><td>1</td><td>10</td><td>10</td><td>⋯</td><td>1</td><td>0</td><td>1</td><td>1</td><td></td><td>8</td><td>32</td><td>117</td><td>NA</td><td>3</td></tr>\n",
       "\t<tr><td>109</td><td>7</td><td>50</td><td>1</td><td>1</td><td>3</td><td>NA</td><td>1</td><td>10</td><td>10</td><td>⋯</td><td>1</td><td>3</td><td>1</td><td>1</td><td></td><td>7</td><td>50</td><td>109</td><td>NA</td><td>3</td></tr>\n",
       "\t<tr><td>120</td><td>7</td><td>50</td><td>1</td><td>1</td><td>3</td><td>NA</td><td>1</td><td>10</td><td>10</td><td>⋯</td><td>1</td><td>0</td><td>1</td><td>1</td><td></td><td>7</td><td>55</td><td>120</td><td>NA</td><td>3</td></tr>\n",
       "\t<tr><td>101</td><td>8</td><td> 9</td><td>1</td><td>1</td><td>3</td><td>NA</td><td>1</td><td>10</td><td>10</td><td>⋯</td><td>1</td><td>0</td><td>1</td><td>1</td><td></td><td>8</td><td>15</td><td>101</td><td>NA</td><td>3</td></tr>\n",
       "\t<tr><td>104</td><td>8</td><td> 0</td><td>1</td><td>1</td><td>3</td><td>NA</td><td>1</td><td>10</td><td>10</td><td>⋯</td><td>1</td><td>1</td><td>1</td><td>1</td><td></td><td>8</td><td> 5</td><td>104</td><td>NA</td><td>3</td></tr>\n",
       "\t<tr><td>108</td><td>8</td><td>10</td><td>1</td><td>1</td><td>3</td><td>NA</td><td>1</td><td>10</td><td>10</td><td>⋯</td><td>1</td><td>1</td><td>1</td><td>1</td><td></td><td>8</td><td>10</td><td>108</td><td>NA</td><td>3</td></tr>\n",
       "</tbody>\n",
       "</table>\n"
      ],
      "text/latex": [
       "A tibble: 6 × 59\n",
       "\\begin{tabular}{lllllllllllllllllllll}\n",
       " a01 & stime\\_h\\_a & stime\\_m\\_a & res\\_id\\_a & consent\\_a & hh\\_type & a02 & x1 & dvcode & div & ⋯ & a24 & a25 & a26 & a27 & a27oth & etime\\_h\\_a & etime\\_m\\_a & hhid2 & flag\\_a & round\\\\\n",
       " <dbl> & <dbl> & <dbl> & <dbl> & <dbl> & <dbl+lbl> & <dbl> & <dbl+lbl> & <dbl> & <chr> & ⋯ & <dbl> & <dbl> & <dbl+lbl> & <dbl+lbl> & <chr> & <dbl> & <dbl> & <chr> & <dbl+lbl> & <dbl+lbl>\\\\\n",
       "\\hline\n",
       "\t 117 & 8 & 30 & 1 & 1 & 3 & NA & 1 & 10 & 10 & ⋯ & 1 & 0 & 1 & 1 &  & 8 & 32 & 117 & NA & 3\\\\\n",
       "\t 109 & 7 & 50 & 1 & 1 & 3 & NA & 1 & 10 & 10 & ⋯ & 1 & 3 & 1 & 1 &  & 7 & 50 & 109 & NA & 3\\\\\n",
       "\t 120 & 7 & 50 & 1 & 1 & 3 & NA & 1 & 10 & 10 & ⋯ & 1 & 0 & 1 & 1 &  & 7 & 55 & 120 & NA & 3\\\\\n",
       "\t 101 & 8 &  9 & 1 & 1 & 3 & NA & 1 & 10 & 10 & ⋯ & 1 & 0 & 1 & 1 &  & 8 & 15 & 101 & NA & 3\\\\\n",
       "\t 104 & 8 &  0 & 1 & 1 & 3 & NA & 1 & 10 & 10 & ⋯ & 1 & 1 & 1 & 1 &  & 8 &  5 & 104 & NA & 3\\\\\n",
       "\t 108 & 8 & 10 & 1 & 1 & 3 & NA & 1 & 10 & 10 & ⋯ & 1 & 1 & 1 & 1 &  & 8 & 10 & 108 & NA & 3\\\\\n",
       "\\end{tabular}\n"
      ],
      "text/markdown": [
       "\n",
       "A tibble: 6 × 59\n",
       "\n",
       "| a01 &lt;dbl&gt; | stime_h_a &lt;dbl&gt; | stime_m_a &lt;dbl&gt; | res_id_a &lt;dbl&gt; | consent_a &lt;dbl&gt; | hh_type &lt;dbl+lbl&gt; | a02 &lt;dbl&gt; | x1 &lt;dbl+lbl&gt; | dvcode &lt;dbl&gt; | div &lt;chr&gt; | ⋯ ⋯ | a24 &lt;dbl&gt; | a25 &lt;dbl&gt; | a26 &lt;dbl+lbl&gt; | a27 &lt;dbl+lbl&gt; | a27oth &lt;chr&gt; | etime_h_a &lt;dbl&gt; | etime_m_a &lt;dbl&gt; | hhid2 &lt;chr&gt; | flag_a &lt;dbl+lbl&gt; | round &lt;dbl+lbl&gt; |\n",
       "|---|---|---|---|---|---|---|---|---|---|---|---|---|---|---|---|---|---|---|---|---|\n",
       "| 117 | 8 | 30 | 1 | 1 | 3 | NA | 1 | 10 | 10 | ⋯ | 1 | 0 | 1 | 1 | <!----> | 8 | 32 | 117 | NA | 3 |\n",
       "| 109 | 7 | 50 | 1 | 1 | 3 | NA | 1 | 10 | 10 | ⋯ | 1 | 3 | 1 | 1 | <!----> | 7 | 50 | 109 | NA | 3 |\n",
       "| 120 | 7 | 50 | 1 | 1 | 3 | NA | 1 | 10 | 10 | ⋯ | 1 | 0 | 1 | 1 | <!----> | 7 | 55 | 120 | NA | 3 |\n",
       "| 101 | 8 |  9 | 1 | 1 | 3 | NA | 1 | 10 | 10 | ⋯ | 1 | 0 | 1 | 1 | <!----> | 8 | 15 | 101 | NA | 3 |\n",
       "| 104 | 8 |  0 | 1 | 1 | 3 | NA | 1 | 10 | 10 | ⋯ | 1 | 1 | 1 | 1 | <!----> | 8 |  5 | 104 | NA | 3 |\n",
       "| 108 | 8 | 10 | 1 | 1 | 3 | NA | 1 | 10 | 10 | ⋯ | 1 | 1 | 1 | 1 | <!----> | 8 | 10 | 108 | NA | 3 |\n",
       "\n"
      ],
      "text/plain": [
       "  a01 stime_h_a stime_m_a res_id_a consent_a hh_type a02 x1 dvcode div ⋯ a24\n",
       "1 117 8         30        1        1         3       NA  1  10     10  ⋯ 1  \n",
       "2 109 7         50        1        1         3       NA  1  10     10  ⋯ 1  \n",
       "3 120 7         50        1        1         3       NA  1  10     10  ⋯ 1  \n",
       "4 101 8          9        1        1         3       NA  1  10     10  ⋯ 1  \n",
       "5 104 8          0        1        1         3       NA  1  10     10  ⋯ 1  \n",
       "6 108 8         10        1        1         3       NA  1  10     10  ⋯ 1  \n",
       "  a25 a26 a27 a27oth etime_h_a etime_m_a hhid2 flag_a round\n",
       "1 0   1   1          8         32        117   NA     3    \n",
       "2 3   1   1          7         50        109   NA     3    \n",
       "3 0   1   1          7         55        120   NA     3    \n",
       "4 0   1   1          8         15        101   NA     3    \n",
       "5 1   1   1          8          5        104   NA     3    \n",
       "6 1   1   1          8         10        108   NA     3    "
      ]
     },
     "metadata": {},
     "output_type": "display_data"
    }
   ],
   "source": [
    "head(m_a)"
   ]
  },
  {
   "cell_type": "markdown",
   "id": "ae6c76f5-527d-4713-82c8-84b6f3bd5919",
   "metadata": {},
   "source": [
    "You might prefer to rename variables into something recognizable"
   ]
  },
  {
   "cell_type": "code",
   "execution_count": 19,
   "id": "6bd4e8e5-2885-42b8-a8ea-e5a4440a0420",
   "metadata": {},
   "outputs": [],
   "source": [
    "# Rename (new_name = old_name)\n",
    "m_a <- m_a %>% rename(hh_size = a23, hh_sex = a26)"
   ]
  },
  {
   "cell_type": "markdown",
   "id": "28f91aeb-b865-4de7-9715-7bc6fef67c8a",
   "metadata": {},
   "source": [
    "Drop plots with 0 area"
   ]
  },
  {
   "cell_type": "code",
   "execution_count": 20,
   "id": "5fa2618b-2a72-4950-9522-b4a630cfb6e6",
   "metadata": {},
   "outputs": [],
   "source": [
    "m_g <- m_g %>% subset(g02>0)"
   ]
  },
  {
   "cell_type": "markdown",
   "id": "372d883e-8374-465e-9936-635a76f455c0",
   "metadata": {},
   "source": [
    "Create some variables:\n",
    "\n",
    "Area was measured in decimals (.01 acres) so we want to convert to acres. We then want to calculate rent per acre for plots that were rented."
   ]
  },
  {
   "cell_type": "code",
   "execution_count": 21,
   "id": "5f9ea737-030f-42a0-8185-a28e737768de",
   "metadata": {},
   "outputs": [],
   "source": [
    "m_g <- m_g %>% mutate(area = g02/100, rent_pa = g07/area)"
   ]
  },
  {
   "cell_type": "markdown",
   "id": "9b4f78ec-c33d-447d-ab47-79ae57db9f86",
   "metadata": {},
   "source": [
    "Let's also create columns for the number of plots and total area each household has"
   ]
  },
  {
   "cell_type": "code",
   "execution_count": 22,
   "id": "5fb5ad7b-6a2f-4442-a824-c8c1d168cb11",
   "metadata": {},
   "outputs": [],
   "source": [
    "m_g <- m_g %>% group_by(a01) %>% mutate(num_plots = n(), tot_area = sum(area)) %>% ungroup()"
   ]
  },
  {
   "cell_type": "markdown",
   "id": "3b5db7c0-8cc2-46b2-9c1e-70b048e5219b",
   "metadata": {},
   "source": [
    "Now plot the data "
   ]
  },
  {
   "cell_type": "code",
   "execution_count": 23,
   "id": "564cbbf1-69dd-4012-b73b-314bb91bec3d",
   "metadata": {
    "scrolled": true
   },
   "outputs": [
    {
     "data": {
      "image/png": "[encoded data removed]",
      "text/plain": [
       "plot without title"
      ]
     },
     "metadata": {
      "image/png": {
       "height": 420,
       "width": 420
      }
     },
     "output_type": "display_data"
    }
   ],
   "source": [
    "plot(m_g$area,m_g$g07)\n"
   ]
  },
  {
   "cell_type": "markdown",
   "id": "3060aa60-f21e-47af-b422-5a9b5d360199",
   "metadata": {},
   "source": [
    "### Outlier management\n",
    "\n",
    "It's very clear we have some outliers in rents, which may be coming from mismeasurement of area or amount paid `g07`. Let's look at the biggest outliers by sorting the data (in descending order) and looking at the first few observations of the relevant variables."
   ]
  },
  {
   "cell_type": "code",
   "execution_count": 24,
   "id": "069a3c17-200c-448b-8e15-1cc64a91d3a3",
   "metadata": {},
   "outputs": [
    {
     "data": {
      "text/html": [
       "<table class=\"dataframe\">\n",
       "<caption>A tibble: 10 × 3</caption>\n",
       "<thead>\n",
       "\t<tr><th scope=col>area</th><th scope=col>g07</th><th scope=col>rent_pa</th></tr>\n",
       "\t<tr><th scope=col>&lt;dbl&gt;</th><th scope=col>&lt;dbl&gt;</th><th scope=col>&lt;dbl&gt;</th></tr>\n",
       "</thead>\n",
       "<tbody>\n",
       "\t<tr><td>0.005</td><td>18000</td><td>3600000</td></tr>\n",
       "\t<tr><td>0.005</td><td> 6000</td><td>1200000</td></tr>\n",
       "\t<tr><td>0.005</td><td> 5000</td><td>1000000</td></tr>\n",
       "\t<tr><td>0.005</td><td> 4500</td><td> 900000</td></tr>\n",
       "\t<tr><td>0.005</td><td> 4000</td><td> 800000</td></tr>\n",
       "\t<tr><td>0.010</td><td> 8000</td><td> 800000</td></tr>\n",
       "\t<tr><td>0.005</td><td> 4000</td><td> 800000</td></tr>\n",
       "\t<tr><td>0.010</td><td> 6500</td><td> 650000</td></tr>\n",
       "\t<tr><td>0.005</td><td> 3000</td><td> 600000</td></tr>\n",
       "\t<tr><td>0.005</td><td> 3000</td><td> 600000</td></tr>\n",
       "</tbody>\n",
       "</table>\n"
      ],
      "text/latex": [
       "A tibble: 10 × 3\n",
       "\\begin{tabular}{lll}\n",
       " area & g07 & rent\\_pa\\\\\n",
       " <dbl> & <dbl> & <dbl>\\\\\n",
       "\\hline\n",
       "\t 0.005 & 18000 & 3600000\\\\\n",
       "\t 0.005 &  6000 & 1200000\\\\\n",
       "\t 0.005 &  5000 & 1000000\\\\\n",
       "\t 0.005 &  4500 &  900000\\\\\n",
       "\t 0.005 &  4000 &  800000\\\\\n",
       "\t 0.010 &  8000 &  800000\\\\\n",
       "\t 0.005 &  4000 &  800000\\\\\n",
       "\t 0.010 &  6500 &  650000\\\\\n",
       "\t 0.005 &  3000 &  600000\\\\\n",
       "\t 0.005 &  3000 &  600000\\\\\n",
       "\\end{tabular}\n"
      ],
      "text/markdown": [
       "\n",
       "A tibble: 10 × 3\n",
       "\n",
       "| area &lt;dbl&gt; | g07 &lt;dbl&gt; | rent_pa &lt;dbl&gt; |\n",
       "|---|---|---|\n",
       "| 0.005 | 18000 | 3600000 |\n",
       "| 0.005 |  6000 | 1200000 |\n",
       "| 0.005 |  5000 | 1000000 |\n",
       "| 0.005 |  4500 |  900000 |\n",
       "| 0.005 |  4000 |  800000 |\n",
       "| 0.010 |  8000 |  800000 |\n",
       "| 0.005 |  4000 |  800000 |\n",
       "| 0.010 |  6500 |  650000 |\n",
       "| 0.005 |  3000 |  600000 |\n",
       "| 0.005 |  3000 |  600000 |\n",
       "\n"
      ],
      "text/plain": [
       "   area  g07   rent_pa\n",
       "1  0.005 18000 3600000\n",
       "2  0.005  6000 1200000\n",
       "3  0.005  5000 1000000\n",
       "4  0.005  4500  900000\n",
       "5  0.005  4000  800000\n",
       "6  0.010  8000  800000\n",
       "7  0.005  4000  800000\n",
       "8  0.010  6500  650000\n",
       "9  0.005  3000  600000\n",
       "10 0.005  3000  600000"
      ]
     },
     "metadata": {},
     "output_type": "display_data"
    }
   ],
   "source": [
    "m_g %>% arrange(desc(rent_pa)) %>% head(10) %>% select(area, g07, rent_pa)"
   ]
  },
  {
   "cell_type": "markdown",
   "id": "add2588c-7858-43ca-8010-e5ddc89956c1",
   "metadata": {},
   "source": [
    "It seems like the rents are reasonable amounts (\\$1 is about 100 Tk) but the areas are tiny and as a result the rents per acre blow up. There are a few ways to proceed from here.\n",
    "\n",
    "- We could assume something about the nature of the errors. It seems plausible, for example, that enumerators entered acres instead of decimals in these cases. In this case, we'd want to replace impossibly small areas by multiplying them by 100.\n",
    "\n",
    "- We could also winsorize the data, which means replacing everything above the xth percentile with the value of the xth percentile (and vice versa for below)\n",
    "\n",
    "- Or we could ignore the outliers altogether"
   ]
  },
  {
   "cell_type": "code",
   "execution_count": 25,
   "id": "7be7b954-80c1-458b-955f-6f9a6b1561e6",
   "metadata": {
    "scrolled": true
   },
   "outputs": [
    {
     "data": {
      "text/plain": [
       "   Min. 1st Qu.  Median    Mean 3rd Qu.    Max. \n",
       " 0.0100  0.0600  0.1400  0.2252  0.3000 10.8000 "
      ]
     },
     "metadata": {},
     "output_type": "display_data"
    }
   ],
   "source": [
    "# Create three new columns for area\n",
    "pacman::p_load(DescTools)\n",
    "\n",
    "# Create new area variables for each method\n",
    "m_g <- m_g %>%  mutate(area1 = ifelse(area<.01, area*100, area),\n",
    "                        area2 = Winsorize(area, probs = c(.025,.975)),\n",
    "                       area3 = ifelse(area<.01, NA, area ))\n",
    "\n",
    "#Update create new corresponding rents\n",
    "\n",
    "m_g <- m_g %>% mutate(rent1 = g07/area1,\n",
    "                      rent2 = g07/area2,\n",
    "                      rent3 = g07/area3)\n",
    "\n",
    "summary(m_g$area1)"
   ]
  },
  {
   "cell_type": "code",
   "execution_count": 26,
   "id": "1a43fe6a-ee23-48ab-86d5-13e87fd3ed3a",
   "metadata": {},
   "outputs": [
    {
     "data": {
      "text/plain": [
       "    Min.  1st Qu.   Median     Mean  3rd Qu.     Max.     NA's \n",
       "    60.1   1041.2   1921.1   6047.0   3333.3 800000.0    19628 "
      ]
     },
     "metadata": {},
     "output_type": "display_data"
    }
   ],
   "source": [
    "summary(m_g$rent1)\n"
   ]
  },
  {
   "cell_type": "markdown",
   "id": "c0d02713-6d69-4be4-a81c-5302cec403eb",
   "metadata": {},
   "source": [
    "### Merging"
   ]
  },
  {
   "cell_type": "markdown",
   "id": "7161781b-370b-4643-a76e-e2cf95c39712",
   "metadata": {},
   "source": [
    "Merge demographics into plot data. We want district, household size, and whether the main decision maker is male or female. We also only care about agricultural plots, indicated by `g14` taking a value of 1. Note how we set the `by.x` argument equal to `c('a01','ploti0_h1','round')` and `by.y` argument equal `c('a01','plotid','round')` to which are the variables that we want to merge on. Even though the names of these variables are different, their _values_ are common to both datasets. **Note that these variables should uniquely identify observations in at least one of the dataframes you're merging.** Here `m_g` is at the plot level and `m_h1` is at the plot-season-crop level so we want to test that there are no duplicates in `m_g`. "
   ]
  },
  {
   "cell_type": "code",
   "execution_count": 27,
   "id": "f1444eec-5c5d-4984-b417-c62e2ede2279",
   "metadata": {},
   "outputs": [],
   "source": [
    "# Grouping by HHID and round, count the number of rows in which plotid is duplicated\n",
    "dupes_g <- m_g %>% group_by(a01,round) %>% filter(duplicated(plotid)) %>% nrow()\n",
    "# Assert that it's equal to 0. If there's no error message then the statement is true\n",
    "stopifnot(dupes_g == 0)\n"
   ]
  },
  {
   "cell_type": "markdown",
   "id": "8b5f301d-f034-4384-80c9-41d7e6beb76d",
   "metadata": {},
   "source": [
    "So the merge variables uniquely idenitfy rows in `m_g`, meaning we're good to go. "
   ]
  },
  {
   "cell_type": "code",
   "execution_count": 28,
   "id": "6f6e4b73-f75f-4e9b-bd9d-5c5c09114c9b",
   "metadata": {},
   "outputs": [],
   "source": [
    "# Only care about agriclultural plots\n",
    "df <- merge(m_h1, m_g %>% subset(g14==1), by.x = c('a01','plotid_h1','round'), by.y = c('a01','plotid','round'))"
   ]
  },
  {
   "cell_type": "markdown",
   "id": "3ea7b10f-dc40-4953-bf57-2e88e2c8aeed",
   "metadata": {},
   "source": [
    "Note that since we there are multiple rows in `m_h1` that correspond to each HH-year-plot observation in `m_g`, R is going to put the information from `m_g` in each of these rows. That means we need to be careful when summing things up, for example. \n",
    "\n",
    "Now let's merge some demographic characteristics into the data. "
   ]
  },
  {
   "cell_type": "code",
   "execution_count": 29,
   "id": "9088a6c2-2fee-4086-bf99-a99d8fcd95b8",
   "metadata": {
    "scrolled": true
   },
   "outputs": [],
   "source": [
    "df <- merge(df, m_a %>% select(a01, district,village, hh_size, hh_sex), by = 'a01', all.x = T)"
   ]
  },
  {
   "cell_type": "markdown",
   "id": "87f3fc98-7a58-4710-92b4-4e6556a10798",
   "metadata": {},
   "source": [
    "The only new thing to note here is the `all.x` option, which we've set equal to TRUE. This says that we want to keep all the rows in the first dataframe (`df`), even if we can't match them to the second dataframe (`m_a`). Note that the default is FALSE, meaning that R drops rows it can't match."
   ]
  },
  {
   "cell_type": "markdown",
   "id": "b89534c5-beda-4058-84e6-f443752457c9",
   "metadata": {},
   "source": [
    "### Data manipulation"
   ]
  },
  {
   "cell_type": "markdown",
   "id": "625d26a5-f422-43bb-91af-f089defb7542",
   "metadata": {},
   "source": [
    "#### Recoding\n",
    "\n",
    "The code below collapses the hundreds of diffferent values for different crops into a few broad categories"
   ]
  },
  {
   "cell_type": "code",
   "execution_count": 30,
   "id": "25d5728c-5f82-4612-ab9d-e7dcbf5ce8d5",
   "metadata": {},
   "outputs": [],
   "source": [
    "breaks <- c(0,20,40,50,60,70,80,300,400,412,800)\n",
    "codes <- seq(10)\n",
    "labels <- c('Rice','Other grains', 'Fiber crops', 'Pulses', 'Oilseeds', 'Spices','Vegetables', 'Fruit', 'Potato','Other Crops')\n",
    "df$crop_a <- cut(df$crop_a_h1, breaks, codes, include.lowest = F, include.highest = T) %>% factor(labels=labels)"
   ]
  },
  {
   "cell_type": "markdown",
   "id": "a404eb96-a3a6-4593-8b9f-647a4a38d054",
   "metadata": {},
   "source": [
    "Let's look at average plot areas by crop"
   ]
  },
  {
   "cell_type": "code",
   "execution_count": 31,
   "id": "32407d5a-fbb6-44d8-9f0a-34389d592555",
   "metadata": {
    "scrolled": true
   },
   "outputs": [
    {
     "data": {
      "text/html": [
       "<table class=\"dataframe\">\n",
       "<caption>A tibble: 10 × 2</caption>\n",
       "<thead>\n",
       "\t<tr><th scope=col>crop_a</th><th scope=col>mean(area)</th></tr>\n",
       "\t<tr><th scope=col>&lt;fct&gt;</th><th scope=col>&lt;dbl&gt;</th></tr>\n",
       "</thead>\n",
       "<tbody>\n",
       "\t<tr><td>Rice        </td><td>0.3034522</td></tr>\n",
       "\t<tr><td>Other grains</td><td>0.2723065</td></tr>\n",
       "\t<tr><td>Fiber crops </td><td>0.2507233</td></tr>\n",
       "\t<tr><td>Pulses      </td><td>0.3049158</td></tr>\n",
       "\t<tr><td>Oilseeds    </td><td>0.2908430</td></tr>\n",
       "\t<tr><td>Spices      </td><td>0.2063303</td></tr>\n",
       "\t<tr><td>Vegetables  </td><td>0.1778025</td></tr>\n",
       "\t<tr><td>Fruit       </td><td>0.4044286</td></tr>\n",
       "\t<tr><td>Potato      </td><td>0.2362434</td></tr>\n",
       "\t<tr><td>Other Crops </td><td>0.2917617</td></tr>\n",
       "</tbody>\n",
       "</table>\n"
      ],
      "text/latex": [
       "A tibble: 10 × 2\n",
       "\\begin{tabular}{ll}\n",
       " crop\\_a & mean(area)\\\\\n",
       " <fct> & <dbl>\\\\\n",
       "\\hline\n",
       "\t Rice         & 0.3034522\\\\\n",
       "\t Other grains & 0.2723065\\\\\n",
       "\t Fiber crops  & 0.2507233\\\\\n",
       "\t Pulses       & 0.3049158\\\\\n",
       "\t Oilseeds     & 0.2908430\\\\\n",
       "\t Spices       & 0.2063303\\\\\n",
       "\t Vegetables   & 0.1778025\\\\\n",
       "\t Fruit        & 0.4044286\\\\\n",
       "\t Potato       & 0.2362434\\\\\n",
       "\t Other Crops  & 0.2917617\\\\\n",
       "\\end{tabular}\n"
      ],
      "text/markdown": [
       "\n",
       "A tibble: 10 × 2\n",
       "\n",
       "| crop_a &lt;fct&gt; | mean(area) &lt;dbl&gt; |\n",
       "|---|---|\n",
       "| Rice         | 0.3034522 |\n",
       "| Other grains | 0.2723065 |\n",
       "| Fiber crops  | 0.2507233 |\n",
       "| Pulses       | 0.3049158 |\n",
       "| Oilseeds     | 0.2908430 |\n",
       "| Spices       | 0.2063303 |\n",
       "| Vegetables   | 0.1778025 |\n",
       "| Fruit        | 0.4044286 |\n",
       "| Potato       | 0.2362434 |\n",
       "| Other Crops  | 0.2917617 |\n",
       "\n"
      ],
      "text/plain": [
       "   crop_a       mean(area)\n",
       "1  Rice         0.3034522 \n",
       "2  Other grains 0.2723065 \n",
       "3  Fiber crops  0.2507233 \n",
       "4  Pulses       0.3049158 \n",
       "5  Oilseeds     0.2908430 \n",
       "6  Spices       0.2063303 \n",
       "7  Vegetables   0.1778025 \n",
       "8  Fruit        0.4044286 \n",
       "9  Potato       0.2362434 \n",
       "10 Other Crops  0.2917617 "
      ]
     },
     "metadata": {},
     "output_type": "display_data"
    }
   ],
   "source": [
    "df %>% group_by(crop_a) %>% summarize(mean(area))"
   ]
  },
  {
   "cell_type": "code",
   "execution_count": 32,
   "id": "731d3e88-b10e-4699-a4cc-4072bb448de1",
   "metadata": {},
   "outputs": [],
   "source": [
    "df2 <- df %>% merge(m_b1, by.x = c('a01','g15a'), by.y = c('a01','mid'), all.x = T)"
   ]
  },
  {
   "cell_type": "code",
   "execution_count": 33,
   "id": "562a1862-07d8-4530-ace6-02c22a336467",
   "metadata": {},
   "outputs": [],
   "source": [
    "df2 <- df2 %>% group_by(a01) %>% mutate(both = min(b1_01,na.rm = T)<max(b1_01,na.rm=T)) %>% ungroup()"
   ]
  },
  {
   "cell_type": "markdown",
   "id": "9edc283b-fb1f-437d-babe-e96f70712d68",
   "metadata": {},
   "source": [
    "### Regressions"
   ]
  },
  {
   "cell_type": "code",
   "execution_count": 34,
   "id": "447b4f80-0493-4673-bbb8-b78d2d98dad2",
   "metadata": {},
   "outputs": [],
   "source": [
    "pacman::p_load(lfe)"
   ]
  },
  {
   "cell_type": "markdown",
   "id": "e529a1e7-76bf-43ed-aa73-2d1827dd0a8a",
   "metadata": {},
   "source": [
    "Use `felm` from the `lfe` package to estimate regressions. `stargazer` is a nice package to make regression tables, but it doesn't play nice with Jupyter. The four arguments in order are the 1) formula 2) fixed-effects (don't worry about this if you're not familiar with them - put 0 if you don't want to use them) 3) instruments (also set to 0 unless you are using them) and 4) cluster variable. "
   ]
  },
  {
   "cell_type": "code",
   "execution_count": 35,
   "id": "8da0acec-12ca-42a1-beaf-984336b47552",
   "metadata": {},
   "outputs": [
    {
     "data": {
      "text/plain": [
       "\n",
       "Call:\n",
       "   felm(formula = rent1 ~ crop_a | district | 0 | district, data = df) \n",
       "\n",
       "Residuals:\n",
       "    Min      1Q  Median      3Q     Max \n",
       "-3413.8  -454.7   -60.9   383.9  4174.1 \n",
       "\n",
       "Coefficients:\n",
       "                   Estimate Cluster s.e. t value Pr(>|t|)   \n",
       "crop_aOther grains  -116.43       127.57  -0.913  0.36510   \n",
       "crop_aFiber crops     28.60       137.63   0.208  0.83607   \n",
       "crop_aPulses         -39.32       108.72  -0.362  0.71892   \n",
       "crop_aOilseeds      -189.97       128.94  -1.473  0.14596   \n",
       "crop_aSpices         353.67       232.79   1.519  0.13404   \n",
       "crop_aVegetables     319.51       104.21   3.066  0.00327 **\n",
       "crop_aFruit          236.66       381.05   0.621  0.53694   \n",
       "crop_aPotato         126.59       131.76   0.961  0.34061   \n",
       "crop_aOther Crops    709.64       223.39   3.177  0.00237 **\n",
       "---\n",
       "Signif. codes:  0 ‘***’ 0.001 ‘**’ 0.01 ‘*’ 0.05 ‘.’ 0.1 ‘ ’ 1\n",
       "\n",
       "Residual standard error: 794.8 on 1652 degrees of freedom\n",
       "  (12592 observations deleted due to missingness)\n",
       "Multiple R-squared(full model): 0.5778   Adjusted R-squared: 0.5604 \n",
       "Multiple R-squared(proj model): 0.03742   Adjusted R-squared: -0.002203 \n",
       "F-statistic(full model, *iid*):33.25 on 68 and 1652 DF, p-value: < 2.2e-16 \n",
       "F-statistic(proj model): 2.988 on 9 and 59 DF, p-value: 0.005337 \n",
       "\n"
      ]
     },
     "metadata": {},
     "output_type": "display_data"
    }
   ],
   "source": [
    "felm(rent1~crop_a|district|0|district, data = df) %>% summary()"
   ]
  },
  {
   "cell_type": "markdown",
   "id": "28468d38-4b64-46aa-b89a-95aec1291db7",
   "metadata": {},
   "source": [
    "Taking logs of the dependent variable (interpret coefficients as a percent difference. Also more robust to outliers)"
   ]
  },
  {
   "cell_type": "code",
   "execution_count": 36,
   "id": "6d9ff088-c5eb-44cf-b916-0ee350b78f56",
   "metadata": {
    "scrolled": true
   },
   "outputs": [
    {
     "data": {
      "text/plain": [
       "\n",
       "Call:\n",
       "   felm(formula = log(rent1) ~ crop_a | district | 0 | district,      data = df) \n",
       "\n",
       "Residuals:\n",
       "     Min       1Q   Median       3Q      Max \n",
       "-2.18496 -0.25188  0.03728  0.26286  1.59609 \n",
       "\n",
       "Coefficients:\n",
       "                   Estimate Cluster s.e. t value Pr(>|t|)   \n",
       "crop_aOther grains -0.08662      0.09538  -0.908  0.36750   \n",
       "crop_aFiber crops   0.03251      0.06421   0.506  0.61449   \n",
       "crop_aPulses       -0.02362      0.07083  -0.333  0.74000   \n",
       "crop_aOilseeds     -0.17907      0.11383  -1.573  0.12104   \n",
       "crop_aSpices        0.18507      0.13599   1.361  0.17871   \n",
       "crop_aVegetables    0.21823      0.06521   3.347  0.00143 **\n",
       "crop_aFruit         0.15601      0.14014   1.113  0.27013   \n",
       "crop_aPotato        0.01939      0.07850   0.247  0.80579   \n",
       "crop_aOther Crops   0.33105      0.10734   3.084  0.00311 **\n",
       "---\n",
       "Signif. codes:  0 ‘***’ 0.001 ‘**’ 0.01 ‘*’ 0.05 ‘.’ 0.1 ‘ ’ 1\n",
       "\n",
       "Residual standard error: 0.4806 on 1652 degrees of freedom\n",
       "  (12592 observations deleted due to missingness)\n",
       "Multiple R-squared(full model): 0.5036   Adjusted R-squared: 0.4831 \n",
       "Multiple R-squared(proj model): 0.033   Adjusted R-squared: -0.006802 \n",
       "F-statistic(full model, *iid*):24.64 on 68 and 1652 DF, p-value: < 2.2e-16 \n",
       "F-statistic(proj model): 3.345 on 9 and 59 DF, p-value: 0.002288 \n",
       "\n"
      ]
     },
     "metadata": {},
     "output_type": "display_data"
    }
   ],
   "source": [
    "felm(log(rent1)~crop_a|district|0|district, data = df) %>% summary()"
   ]
  },
  {
   "cell_type": "markdown",
   "id": "532159ea-8cb9-427e-b8ff-446b4592b165",
   "metadata": {},
   "source": [
    "### More R resources\n",
    "\n",
    "- [R for Data Science](https://r4ds.had.co.nz/): A comprehensive guide to using R written by Hadley Wickham (the godfather of R)\n",
    "- [The R Cookbook](https://rc2e.com/): A similarly comprehensive guide\n",
    "- [Cheat Sheet for Base R](https://iqss.github.io/dss-workshops/R/Rintro/base-r-cheat-sheet.pdf): i.e. not fancy packages\n",
    "- [Tidyverse Cheat Sheet](https://www.rstudio.com/wp-content/uploads/2015/02/data-wrangling-cheatsheet.pdf): Much of what we've been doing"
   ]
  },
  {
   "cell_type": "code",
   "execution_count": null,
   "id": "b78eddff-b08d-4f23-b5c5-71ba49161475",
   "metadata": {},
   "outputs": [],
   "source": []
  }
 ],
 "metadata": {
  "kernelspec": {
   "display_name": "R",
   "language": "R",
   "name": "ir"
  },
  "language_info": {
   "codemirror_mode": "r",
   "file_extension": ".r",
   "mimetype": "text/x-r-source",
   "name": "R",
   "pygments_lexer": "r",
   "version": "4.3.2"
  }
 },
 "nbformat": 4,
 "nbformat_minor": 5
}
